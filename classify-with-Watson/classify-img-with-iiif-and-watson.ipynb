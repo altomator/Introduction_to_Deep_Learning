{
 "cells": [
  {
   "cell_type": "markdown",
   "metadata": {},
   "source": [
    "**This Python 2 notebook extracts images of a Gallica document (using the IIIF protocol), and then applies an IBM Watson classification model to the images**\n",
    "1. Extract the document bibliographical metadata from the Gallica OAI-PMH repository\n",
    "2. Extract the document technical image metadata from its IIIF manifest, and then the images\n",
    "3. Classify the images with a Watson Cloud Vision model (the model must be available)"
   ]
  },
  {
   "cell_type": "code",
   "execution_count": 2,
   "metadata": {},
   "outputs": [],
   "source": [
    "# insert here the Gallica document ID you want to process\n",
    "docID = '12148/btv1b103365619'"
   ]
  },
  {
   "cell_type": "code",
   "execution_count": 3,
   "metadata": {
    "scrolled": true
   },
   "outputs": [
    {
     "name": "stdout",
     "output_type": "stream",
     "text": [
      "Python version\n",
      "2.7.14 (default, Sep 25 2017, 09:53:22) \n",
      "[GCC 4.2.1 Compatible Apple LLVM 9.0.0 (clang-900.0.37)]\n"
     ]
    }
   ],
   "source": [
    "import sys\n",
    "print(\"Python version\")\n",
    "print (sys.version)"
   ]
  },
  {
   "cell_type": "markdown",
   "metadata": {},
   "source": [
    "### 1. PyGallica (https://github.com/ian-nai/PyGallica) is used to access the Gallica OAI. The call returns metadata as a dictionary"
   ]
  },
  {
   "cell_type": "code",
   "execution_count": 16,
   "metadata": {},
   "outputs": [],
   "source": [
    "# we import the Document class from the PyGallica package (https://github.com/ian-nai/PyGallica)\n",
    "from document_api import Document"
   ]
  },
  {
   "cell_type": "code",
   "execution_count": 17,
   "metadata": {
    "scrolled": false
   },
   "outputs": [
    {
     "name": "stdout",
     "output_type": "stream",
     "text": [
      "https://gallica.bnf.fr/services/OAIRecord?ark=ark:/12148/btv1b103365619\n"
     ]
    }
   ],
   "source": [
    "# we get the document metadata with the Gallica OAI API wrapped within the PyGallica package\n",
    "json_dict4doc = Document.OAI(docID)"
   ]
  },
  {
   "cell_type": "code",
   "execution_count": 18,
   "metadata": {},
   "outputs": [
    {
     "name": "stdout",
     "output_type": "stream",
     "text": [
      "[Recueil. Portraits de Joseph Caillaux]\n",
      "OrderedDict([(u'@xmlns:dc', u'http://purl.org/dc/elements/1.1/'), (u'@xmlns:oai_dc', u'http://www.openarchives.org/OAI/2.0/oai_dc/'), (u'@xmlns:xsi', u'http://www.w3.org/2001/XMLSchema-instance'), (u'@xsi:schemaLocation', u'http://www.openarchives.org/OAI/2.0/oai_dc/ http://www.openarchives.org/OAI/2.0/oai_dc.xsd'), (u'dc:identifier', u'https://gallica.bnf.fr/ark:/12148/btv1b103365619'), (u'dc:title', u'[Recueil. Portraits de Joseph Caillaux]'), (u'dc:subject', [OrderedDict([(u'@xml:lang', u'fre'), ('#text', u'Caillaux, Joseph (1863-1944) -- Portraits')]), OrderedDict([(u'@xml:lang', u'fre'), ('#text', u'Portraits')])]), (u'dc:format', [u'31 doc. iconogr.', u'image/jpeg', u'Nombre total de vues :  33']), (u'dc:language', [u'fre', u'fran\\xe7ais']), (u'dc:relation', u'Notice du catalogue : http://catalogue.bnf.fr/ark:/12148/cb43604814s'), (u'dc:type', [OrderedDict([(u'@xml:lang', u'fre'), ('#text', u'image fixe')]), OrderedDict([(u'@xml:lang', u'eng'), ('#text', u'image')]), OrderedDict([(u'@xml:lang', u'eng'), ('#text', u'still image')])]), (u'dc:source', u'Biblioth\\xe8que nationale de France, d\\xe9partement Estampes et photographie, N-2 (CAILLAUX, Joseph-Marie-Auguste)'), (u'dc:rights', [OrderedDict([(u'@xml:lang', u'fre'), ('#text', u'domaine public')]), OrderedDict([(u'@xml:lang', u'eng'), ('#text', u'public domain')])]), (u'dc:description', [u'Appartient \\xe0 l\\u2019ensemble documentaire : IconEST2', u'Appartient \\xe0 l\\u2019ensemble documentaire : GG14182'])])\n"
     ]
    }
   ],
   "source": [
    "# do whatever you want with the document bibliographic metadata\n",
    "# get the title\n",
    "print json_dict4doc['results']['title']\n",
    "# get the Dublin Core medatada\n",
    "print json_dict4doc['results']['notice']['record']['metadata']['oai_dc:dc']"
   ]
  },
  {
   "cell_type": "markdown",
   "metadata": {},
   "source": [
    "### 2. We ask for the document IIIF manifest to then have access to the images files"
   ]
  },
  {
   "cell_type": "code",
   "execution_count": 19,
   "metadata": {},
   "outputs": [
    {
     "name": "stdout",
     "output_type": "stream",
     "text": [
      "https://gallica.bnf.fr/iiif/ark:/12148/btv1b103365619/manifest.json\n"
     ]
    }
   ],
   "source": [
    "# we build the IIIF URL\n",
    "import requests\n",
    "METADATA_BASEURL = 'https://gallica.bnf.fr/iiif/ark:/'\n",
    "req_url = \"\".join([METADATA_BASEURL, docID, '/manifest.json'])\n",
    "print req_url"
   ]
  },
  {
   "cell_type": "code",
   "execution_count": 20,
   "metadata": {},
   "outputs": [
    {
     "name": "stdout",
     "output_type": "stream",
     "text": [
      "[u'@context', u'attribution', u'description', u'license', u'@type', u'related', u'label', u'sequences', u'logo', u'metadata', u'@id', u'thumbnail', u'seeAlso']\n"
     ]
    }
   ],
   "source": [
    "# we ask for the manifest. The call returns a dictionary\n",
    "r = requests.get(req_url)\n",
    "r.raise_for_status()\n",
    "json_4img = r.json()\n",
    "print json_4img.keys()"
   ]
  },
  {
   "cell_type": "code",
   "execution_count": 21,
   "metadata": {},
   "outputs": [
    {
     "name": "stdout",
     "output_type": "stream",
     "text": [
      "[u'canvases', u'@id', u'@type', u'label']\n",
      "--- getting image metadata from the IIIF manifest...\n",
      " label: NP  width: 2289  height: 3510\n",
      " thumbnail:  https://gallica.bnf.fr/ark:/12148/btv1b103365619/f1.thumbnail\n",
      " label: NP  width: 1508  height: 2485\n",
      " thumbnail:  https://gallica.bnf.fr/ark:/12148/btv1b103365619/f2.thumbnail\n",
      " label: NP  width: 1830  height: 3076\n",
      " thumbnail:  https://gallica.bnf.fr/ark:/12148/btv1b103365619/f3.thumbnail\n",
      " label: NP  width: 3576  height: 1850\n",
      " thumbnail:  https://gallica.bnf.fr/ark:/12148/btv1b103365619/f4.thumbnail\n",
      " label: NP  width: 4376  height: 3449\n",
      " thumbnail:  https://gallica.bnf.fr/ark:/12148/btv1b103365619/f5.thumbnail\n",
      " label: NP  width: 4083  height: 5506\n",
      " thumbnail:  https://gallica.bnf.fr/ark:/12148/btv1b103365619/f6.thumbnail\n",
      " label: NP  width: 3847  height: 5365\n",
      " thumbnail:  https://gallica.bnf.fr/ark:/12148/btv1b103365619/f7.thumbnail\n",
      " label: NP  width: 3062  height: 2507\n",
      " thumbnail:  https://gallica.bnf.fr/ark:/12148/btv1b103365619/f8.thumbnail\n",
      " label: NP  width: 2945  height: 2358\n",
      " thumbnail:  https://gallica.bnf.fr/ark:/12148/btv1b103365619/f9.thumbnail\n",
      " label: NP  width: 1532  height: 2646\n",
      " thumbnail:  https://gallica.bnf.fr/ark:/12148/btv1b103365619/f10.thumbnail\n",
      " label: NP  width: 1596  height: 2638\n",
      " thumbnail:  https://gallica.bnf.fr/ark:/12148/btv1b103365619/f11.thumbnail\n",
      " label: NP  width: 1564  height: 2595\n",
      " thumbnail:  https://gallica.bnf.fr/ark:/12148/btv1b103365619/f12.thumbnail\n",
      " label: NP  width: 2248  height: 3196\n",
      " thumbnail:  https://gallica.bnf.fr/ark:/12148/btv1b103365619/f13.thumbnail\n",
      " label: NP  width: 2479  height: 3732\n",
      " thumbnail:  https://gallica.bnf.fr/ark:/12148/btv1b103365619/f14.thumbnail\n",
      " label: NP  width: 1918  height: 3058\n",
      " thumbnail:  https://gallica.bnf.fr/ark:/12148/btv1b103365619/f15.thumbnail\n",
      " label: NP  width: 1813  height: 2767\n",
      " thumbnail:  https://gallica.bnf.fr/ark:/12148/btv1b103365619/f16.thumbnail\n",
      " label: NP  width: 1720  height: 1998\n",
      " thumbnail:  https://gallica.bnf.fr/ark:/12148/btv1b103365619/f17.thumbnail\n",
      " label: NP  width: 2158  height: 3073\n",
      " thumbnail:  https://gallica.bnf.fr/ark:/12148/btv1b103365619/f18.thumbnail\n",
      " label: NP  width: 2004  height: 3041\n",
      " thumbnail:  https://gallica.bnf.fr/ark:/12148/btv1b103365619/f19.thumbnail\n",
      " label: NP  width: 1709  height: 2641\n",
      " thumbnail:  https://gallica.bnf.fr/ark:/12148/btv1b103365619/f20.thumbnail\n",
      " label: NP  width: 3867  height: 3062\n",
      " thumbnail:  https://gallica.bnf.fr/ark:/12148/btv1b103365619/f21.thumbnail\n",
      " label: NP  width: 3233  height: 2484\n",
      " thumbnail:  https://gallica.bnf.fr/ark:/12148/btv1b103365619/f22.thumbnail\n",
      " label: NP  width: 3931  height: 6067\n",
      " thumbnail:  https://gallica.bnf.fr/ark:/12148/btv1b103365619/f23.thumbnail\n",
      " label: NP  width: 2978  height: 4173\n",
      " thumbnail:  https://gallica.bnf.fr/ark:/12148/btv1b103365619/f24.thumbnail\n",
      " label: NP  width: 1705  height: 2810\n",
      " thumbnail:  https://gallica.bnf.fr/ark:/12148/btv1b103365619/f25.thumbnail\n",
      " label: NP  width: 1782  height: 2843\n",
      " thumbnail:  https://gallica.bnf.fr/ark:/12148/btv1b103365619/f26.thumbnail\n",
      " label: NP  width: 1934  height: 2856\n",
      " thumbnail:  https://gallica.bnf.fr/ark:/12148/btv1b103365619/f27.thumbnail\n",
      " label: NP  width: 2699  height: 5916\n",
      " thumbnail:  https://gallica.bnf.fr/ark:/12148/btv1b103365619/f28.thumbnail\n",
      " label: NP  width: 1292  height: 2462\n",
      " thumbnail:  https://gallica.bnf.fr/ark:/12148/btv1b103365619/f29.thumbnail\n",
      " label: NP  width: 2310  height: 3364\n",
      " thumbnail:  https://gallica.bnf.fr/ark:/12148/btv1b103365619/f30.thumbnail\n",
      " label: NP  width: 2310  height: 3383\n",
      " thumbnail:  https://gallica.bnf.fr/ark:/12148/btv1b103365619/f31.thumbnail\n",
      " label: NP  width: 5294  height: 3921\n",
      " thumbnail:  https://gallica.bnf.fr/ark:/12148/btv1b103365619/f32.thumbnail\n",
      " label: NP  width: 5539  height: 3433\n",
      " thumbnail:  https://gallica.bnf.fr/ark:/12148/btv1b103365619/f33.thumbnail\n",
      "-------\n",
      "images: 33\n",
      "\n"
     ]
    }
   ],
   "source": [
    "# get the sequence of images metadata. It's a list\n",
    "sequences = json_4img.get('sequences')\n",
    "# get the canvases, first element of the list. Its a dict\n",
    "canvases = sequences[0]\n",
    "print canvases.keys()\n",
    "# parse each canvas data for each image\n",
    "# each canvas has these keys: [u'height', u'width', u'@type', u'images', u'label', u'@id', u'thumbnail']\n",
    "nImages = 0\n",
    "print \"--- getting image metadata from the IIIF manifest...\"\n",
    "for c in canvases.get('canvases'): \n",
    "    nImages += 1\n",
    "    print \" label:\",c.get('label'),\" width:\",c.get('width'), \" height:\",c.get('height')\n",
    "    # we also get a Gallica thumbnail (it's not a IIIF image)\n",
    "    thumbnail = c.get('thumbnail')\n",
    "    print \" thumbnail: \",thumbnail.get('@id')\n",
    "print \"-------\"\n",
    "print \"images:\", nImages\n",
    "print"
   ]
  },
  {
   "cell_type": "code",
   "execution_count": 22,
   "metadata": {},
   "outputs": [],
   "source": [
    "# Now we'd like to get the image files with the IIIF Image API (PyGallica package again)\n",
    "from iiif_api import IIIF\n",
    "\n",
    "# IIIF export factor (%)\n",
    "docExportFactor = 25"
   ]
  },
  {
   "cell_type": "code",
   "execution_count": 23,
   "metadata": {},
   "outputs": [
    {
     "name": "stdout",
     "output_type": "stream",
     "text": [
      "--- getting image...\n",
      "https://gallica.bnf.fr/iiif/ark:/12148/btv1b103365619/f12/full/pct:25/0/native.jpg\n",
      "--- getting image...\n",
      "https://gallica.bnf.fr/iiif/ark:/12148/btv1b103365619/f13/full/pct:25/0/native.jpg\n",
      "--- getting image...\n",
      "https://gallica.bnf.fr/iiif/ark:/12148/btv1b103365619/f14/full/pct:25/0/native.jpg\n",
      "--- getting image...\n",
      "https://gallica.bnf.fr/iiif/ark:/12148/btv1b103365619/f15/full/pct:25/0/native.jpg\n",
      "--- getting image...\n",
      "https://gallica.bnf.fr/iiif/ark:/12148/btv1b103365619/f16/full/pct:25/0/native.jpg\n",
      "\n"
     ]
    }
   ],
   "source": [
    "# get the image files #12 to #16 (we only process 4 images)\n",
    "for i in range(12, 17):\n",
    "    print \"--- getting image...\"\n",
    "    # we build the IIIF URL. We ask for the full image with a size factor of docExportFactor\n",
    "    IIIF.iiif(\"\".join([docID,'/f',str(i)]), 'full', \"\".join(['pct:',str(docExportFactor)]), '0', 'native', 'jpg')\n",
    "print\n",
    "# the files are stored in the . folder"
   ]
  },
  {
   "cell_type": "markdown",
   "metadata": {},
   "source": [
    "### 3. Now we have to call the Watson classification model on the local image files"
   ]
  },
  {
   "cell_type": "code",
   "execution_count": 1,
   "metadata": {},
   "outputs": [
    {
     "ename": "NameError",
     "evalue": "name 'docID' is not defined",
     "output_type": "error",
     "traceback": [
      "\u001b[0;31m---------------------------------------------------------------------------\u001b[0m",
      "\u001b[0;31mNameError\u001b[0m                                 Traceback (most recent call last)",
      "\u001b[0;32m<ipython-input-1-b586eefb3b77>\u001b[0m in \u001b[0;36m<module>\u001b[0;34m()\u001b[0m\n\u001b[1;32m     13\u001b[0m \u001b[0;31m# the images have been stored in a folder based on the document ID\u001b[0m\u001b[0;34m\u001b[0m\u001b[0;34m\u001b[0m\u001b[0m\n\u001b[1;32m     14\u001b[0m \u001b[0;31m# like 12148/btv1b103365619\u001b[0m\u001b[0;34m\u001b[0m\u001b[0;34m\u001b[0m\u001b[0m\n\u001b[0;32m---> 15\u001b[0;31m \u001b[0mentries\u001b[0m \u001b[0;34m=\u001b[0m \u001b[0mos\u001b[0m\u001b[0;34m.\u001b[0m\u001b[0mlistdir\u001b[0m\u001b[0;34m(\u001b[0m\u001b[0mdocID\u001b[0m\u001b[0;34m)\u001b[0m\u001b[0;34m\u001b[0m\u001b[0m\n\u001b[0m\u001b[1;32m     16\u001b[0m \u001b[0mi\u001b[0m \u001b[0;34m=\u001b[0m \u001b[0;36m1\u001b[0m\u001b[0;34m\u001b[0m\u001b[0m\n\u001b[1;32m     17\u001b[0m \u001b[0;32mfor\u001b[0m \u001b[0mfile\u001b[0m \u001b[0;32min\u001b[0m \u001b[0mentries\u001b[0m\u001b[0;34m:\u001b[0m\u001b[0;34m\u001b[0m\u001b[0m\n",
      "\u001b[0;31mNameError\u001b[0m: name 'docID' is not defined"
     ]
    }
   ],
   "source": [
    "from PIL import Image\n",
    "\n",
    "# Watson parameters:\n",
    "WATSON_BASEURL = 'https://gateway.watsonplatform.net/visual-recognition/api/v3/classify?version=2018-03-19'\n",
    "WATSON_VERSION = (('version', '2018-03-19'),)\n",
    "# insert your Watson key here\n",
    "WATSON_KEY = '***' \n",
    "# insert your Watson visual recognition model ID here\n",
    "WATSON_MODEL = 'DefaultCustomModel_1457318034'\n",
    "\n",
    "# first we read the images\n",
    "import os\n",
    "# the images have been stored in a folder based on the document ID\n",
    "# like 12148/btv1b103365619\n",
    "entries = os.listdir(docID)\n",
    "i = 1\n",
    "for file in entries:\n",
    "    print \"--- infering image \",i,\" ...\"\n",
    "    fileName = \"\".join([docID,\"/\",file])\n",
    "    #req_url = \"\".join([\"curl -X POST -u 'apikey:\",WATSON_KEY,\"' -F 'images_file=@\",fileName,\"' -F 'classifier_ids=\",WATSON_MODEL,\"' '\",WATSON_BASEURL,\"'\"])\n",
    "    print(fileName)\n",
    "    # we display the image\n",
    "    img = Image.open(fileName)\n",
    "    img.show() \n",
    "    # we use the requests package\n",
    "    files = {\n",
    "        'images_file': (fileName, open(fileName, 'rb')),\n",
    "        'classifier_ids': (None, WATSON_MODEL),\n",
    "    }\n",
    "    # calling the Watson API \n",
    "    response = requests.post('https://gateway.watsonplatform.net/visual-recognition/api/v3/classify',params=WATSON_VERSION, files=files, auth=('apikey', WATSON_KEY))\n",
    "    json_watson = response.json()\n",
    "    # Watson returns a JSON with classification and confidence score informations\n",
    "    print json_watson\n",
    "    i +=1"
   ]
  },
  {
   "cell_type": "markdown",
   "metadata": {},
   "source": [
    "### 4. We could do the same on a IIIF image URL"
   ]
  },
  {
   "cell_type": "code",
   "execution_count": 12,
   "metadata": {},
   "outputs": [
    {
     "name": "stdout",
     "output_type": "stream",
     "text": [
      "--- infering image  https://iiif.wellcomecollection.org/image/L0009407.jpg/1,1,1568,1213/1000,/0/default.jpg  ...\n",
      "{u'images': [{u'classifiers': [{u'classes': [{u'score': 0.902, u'class': u'Photo_30'}], u'classifier_id': u'DefaultCustomModel_1457318034', u'name': u'Default Custom Model'}], u'resolved_url': u'https://iiif.wellcomecollection.org/image/L0009407.jpg/1,1,1568,1213/1000,/0/default.jpg', u'source_url': u'https://iiif.wellcomecollection.org/image/L0009407.jpg/1,1,1568,1213/1000,/0/default.jpg'}], u'custom_classes': 4, u'images_processed': 1}\n"
     ]
    }
   ],
   "source": [
    "import requests\n",
    "# Wellcome collection\n",
    "iiifURL = \"https://iiif.wellcomecollection.org/image/L0009407.jpg/1,1,1568,1213/1000,/0/default.jpg\"\n",
    "# Gallica\n",
    "#iiifURL = \"https://gallica.bnf.fr/iiif/ark:/12148/bpt6k4628326j/f1/4317.695641814265,2899.28514719721,1006.9642711679644,774.944853848157/217,167/0/native.jpg\"\n",
    "CURL_URL = (('url', iiifURL),)\n",
    "WATSON_CLASSIFIER = (('classifier_ids', WATSON_MODEL),)\n",
    "curlParams = {\n",
    "        'url': (None, iiifURL),\n",
    "        'classifier_ids': (None, WATSON_MODEL),\n",
    "        'version': (None, '2018-03-19')\n",
    "    }\n",
    "print \"--- infering image \",iiifURL,\" ...\"\n",
    "img = Image.open(requests.get(iiifURL, stream=True).raw)\n",
    "img.show() \n",
    "# call to the Watson API \n",
    "response = requests.post('https://gateway.watsonplatform.net/visual-recognition/api/v3/classify',params=curlParams, auth=('apikey', WATSON_KEY))\n",
    "json_watson = response.json()\n",
    "print json_watson\n"
   ]
  },
  {
   "cell_type": "code",
   "execution_count": 32,
   "metadata": {},
   "outputs": [
    {
     "name": "stdout",
     "output_type": "stream",
     "text": [
      "-> classification: Photo_30\n",
      "-> confidence score: 0.902\n"
     ]
    }
   ],
   "source": [
    "images = json_watson.get('images')\n",
    "#print images[0].keys() # dict\n",
    "print \"-> classification:\",images[0].get('classifiers')[0].get('classes')[0].get('class')\n",
    "print \"-> confidence score:\",images[0].get('classifiers')[0].get('classes')[0].get('score')"
   ]
  },
  {
   "cell_type": "code",
   "execution_count": null,
   "metadata": {},
   "outputs": [],
   "source": []
  }
 ],
 "metadata": {
  "kernelspec": {
   "display_name": "Python 2",
   "language": "python",
   "name": "python2"
  },
  "language_info": {
   "codemirror_mode": {
    "name": "ipython",
    "version": 2
   },
   "file_extension": ".py",
   "mimetype": "text/x-python",
   "name": "python",
   "nbconvert_exporter": "python",
   "pygments_lexer": "ipython2",
   "version": "2.7.14"
  }
 },
 "nbformat": 4,
 "nbformat_minor": 2
}
